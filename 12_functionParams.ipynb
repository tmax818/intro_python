{
 "cells": [
  {
   "cell_type": "markdown",
   "id": "7aee4dea",
   "metadata": {},
   "source": [
    "## Function Parameters\n",
    "\n",
    "```python\n",
    "def function_name(parameter):\n",
    "    return parameter\n",
    "\n",
    "function_name(argument)\n",
    "```"
   ]
  },
  {
   "cell_type": "code",
   "execution_count": 3,
   "id": "4780075b",
   "metadata": {},
   "outputs": [
    {
     "data": {
      "text/plain": [
       "42"
      ]
     },
     "execution_count": 3,
     "metadata": {},
     "output_type": "execute_result"
    }
   ],
   "source": [
    "def function_name(parameter):\n",
    "    return parameter\n",
    "\n",
    "function_name(42)"
   ]
  },
  {
   "cell_type": "code",
   "execution_count": null,
   "id": "33c4a625",
   "metadata": {},
   "outputs": [],
   "source": []
  }
 ],
 "metadata": {
  "kernelspec": {
   "display_name": "Python 3",
   "language": "python",
   "name": "python3"
  },
  "language_info": {
   "codemirror_mode": {
    "name": "ipython",
    "version": 3
   },
   "file_extension": ".py",
   "mimetype": "text/x-python",
   "name": "python",
   "nbconvert_exporter": "python",
   "pygments_lexer": "ipython3",
   "version": "3.8.8"
  }
 },
 "nbformat": 4,
 "nbformat_minor": 5
}
