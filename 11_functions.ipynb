{
 "cells": [
  {
   "cell_type": "markdown",
   "id": "ae817b3c",
   "metadata": {},
   "source": [
    "## Functions\n",
    "\n",
    "- use the `def` keyword\n",
    "- keep code DRY\n",
    "- keep code readable\n"
   ]
  },
  {
   "cell_type": "code",
   "execution_count": 7,
   "id": "759f810f",
   "metadata": {},
   "outputs": [],
   "source": [
    "def function_name():\n",
    "    \"\"\"This function is totally useless!\"\"\"\n",
    "    return \"Hello from inside the function!\""
   ]
  }
 ],
 "metadata": {
  "kernelspec": {
   "display_name": "Python 3",
   "language": "python",
   "name": "python3"
  },
  "language_info": {
   "codemirror_mode": {
    "name": "ipython",
    "version": 3
   },
   "file_extension": ".py",
   "mimetype": "text/x-python",
   "name": "python",
   "nbconvert_exporter": "python",
   "pygments_lexer": "ipython3",
   "version": "3.8.8"
  }
 },
 "nbformat": 4,
 "nbformat_minor": 5
}
