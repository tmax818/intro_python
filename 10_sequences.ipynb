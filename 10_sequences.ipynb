{
 "cells": [
  {
   "cell_type": "markdown",
   "id": "d037f156",
   "metadata": {},
   "source": [
    "## Sequences\n",
    "\n",
    "\n",
    "list \n",
    "\n",
    "```python\n",
    "my_list = [\"spam\", \"eggs\", \"bacon\"]\n",
    "``` \n",
    "\n",
    "tuple\n",
    "\n",
    "```python\n",
    "my_tuple = (\"John\", 37, True)\n",
    "``` \n",
    "\n",
    "range\n",
    "\n",
    "```python\n",
    "start = 2\n",
    "stop = 100\n",
    "step = 2\n",
    "my_range = range(start, stop, step)\n",
    "``` "
   ]
  },
  {
   "cell_type": "markdown",
   "id": "3d4d198d",
   "metadata": {},
   "source": [
    "### lists"
   ]
  },
  {
   "cell_type": "code",
   "execution_count": null,
   "id": "7aae3a8f",
   "metadata": {},
   "outputs": [],
   "source": [
    "my_list = [\"spam\", \"eggs\", \"bacon\"]"
   ]
  },
  {
   "cell_type": "code",
   "execution_count": null,
   "id": "b8a47bfd",
   "metadata": {},
   "outputs": [],
   "source": []
  },
  {
   "cell_type": "markdown",
   "id": "879ce6a2",
   "metadata": {},
   "source": [
    "### tuple"
   ]
  },
  {
   "cell_type": "code",
   "execution_count": null,
   "id": "5cc51d15",
   "metadata": {},
   "outputs": [],
   "source": [
    "my_tuple = (45, \"John\", True)"
   ]
  },
  {
   "cell_type": "code",
   "execution_count": null,
   "id": "faff25da",
   "metadata": {},
   "outputs": [],
   "source": []
  },
  {
   "cell_type": "markdown",
   "id": "a4cf87e7",
   "metadata": {},
   "source": [
    "### range"
   ]
  },
  {
   "cell_type": "code",
   "execution_count": null,
   "id": "fd0f46a3",
   "metadata": {},
   "outputs": [],
   "source": [
    "my_range = range(1,11)"
   ]
  },
  {
   "cell_type": "code",
   "execution_count": null,
   "id": "7d616842",
   "metadata": {},
   "outputs": [],
   "source": []
  }
 ],
 "metadata": {
  "kernelspec": {
   "display_name": "Python 3",
   "language": "python",
   "name": "python3"
  },
  "language_info": {
   "codemirror_mode": {
    "name": "ipython",
    "version": 3
   },
   "file_extension": ".py",
   "mimetype": "text/x-python",
   "name": "python",
   "nbconvert_exporter": "python",
   "pygments_lexer": "ipython3",
   "version": "3.8.8"
  }
 },
 "nbformat": 4,
 "nbformat_minor": 5
}
