{
 "cells": [
  {
   "cell_type": "markdown",
   "id": "141bf1c6",
   "metadata": {},
   "source": [
    "### Basic Logic\n",
    "- not\n",
    "- and\n",
    "- or"
   ]
  },
  {
   "cell_type": "markdown",
   "id": "8700a410",
   "metadata": {},
   "source": [
    "### Not\n",
    "\n",
    "|p|not p|\n",
    "|---|---|\n",
    "|True|False|\n",
    "|Flase|True|\n",
    "\n",
    "- \"The sky is blue.\"\n",
    "- \"The moon is made of green cheese.\n",
    "- \"It is not the case that...\""
   ]
  },
  {
   "cell_type": "code",
   "execution_count": null,
   "id": "b01f7f66",
   "metadata": {},
   "outputs": [],
   "source": []
  },
  {
   "cell_type": "markdown",
   "id": "26ca0860",
   "metadata": {},
   "source": [
    "### And\n",
    "\n",
    "|p|q|p and q|\n",
    "|---|---|:---:|\n",
    "|True|True|True\n",
    "|True|False|False\n",
    "|False|True|False\n",
    "|False|False|False\n",
    "\n",
    "- \"Today is Wednesday.\"\n",
    "- \"I am teaching JavaScript.\""
   ]
  },
  {
   "cell_type": "code",
   "execution_count": null,
   "id": "b5cece20",
   "metadata": {},
   "outputs": [],
   "source": []
  },
  {
   "cell_type": "markdown",
   "id": "a49a42e5",
   "metadata": {},
   "source": [
    "### Or\n",
    "\n",
    "|p|q|p or q|\n",
    "|---|---|:---:|\n",
    "|True|True|True\n",
    "|True|False|True\n",
    "|False|True|True\n",
    "|False|False|False\n",
    "\n",
    "- \"I would like cream.\"\n",
    "- \"I would like sugar.\""
   ]
  },
  {
   "cell_type": "code",
   "execution_count": null,
   "id": "8b8a3e7e",
   "metadata": {},
   "outputs": [],
   "source": []
  }
 ],
 "metadata": {
  "kernelspec": {
   "display_name": "Python 3",
   "language": "python",
   "name": "python3"
  },
  "language_info": {
   "codemirror_mode": {
    "name": "ipython",
    "version": 3
   },
   "file_extension": ".py",
   "mimetype": "text/x-python",
   "name": "python",
   "nbconvert_exporter": "python",
   "pygments_lexer": "ipython3",
   "version": "3.8.8"
  }
 },
 "nbformat": 4,
 "nbformat_minor": 5
}
