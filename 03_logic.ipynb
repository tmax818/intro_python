{
 "cells": [
  {
   "cell_type": "markdown",
   "id": "141bf1c6",
   "metadata": {},
   "source": [
    "### Basic Logic\n",
    "- not\n",
    "- and\n",
    "- or"
   ]
  },
  {
   "cell_type": "markdown",
   "id": "8700a410",
   "metadata": {},
   "source": [
    "### Not\n",
    "\n",
    "|p|not p|\n",
    "|---|---|\n",
    "|True|False|\n",
    "|Flase|True|\n",
    "\n",
    "- \"The sky is blue.\"\n",
    "- \"The moon is made of green cheese.\n",
    "- \"It is not the case that...\""
   ]
  },
  {
   "cell_type": "code",
   "execution_count": 2,
   "id": "add887c4",
   "metadata": {},
   "outputs": [
    {
     "data": {
      "text/plain": [
       "False"
      ]
     },
     "execution_count": 2,
     "metadata": {},
     "output_type": "execute_result"
    }
   ],
   "source": [
    "not 4 == 4"
   ]
  },
  {
   "cell_type": "code",
   "execution_count": 4,
   "id": "efb09492",
   "metadata": {},
   "outputs": [
    {
     "data": {
      "text/plain": [
       "True"
      ]
     },
     "execution_count": 4,
     "metadata": {},
     "output_type": "execute_result"
    }
   ],
   "source": [
    "not 4 != 4"
   ]
  },
  {
   "cell_type": "code",
   "execution_count": 5,
   "id": "4a6d7512",
   "metadata": {},
   "outputs": [
    {
     "data": {
      "text/plain": [
       "True"
      ]
     },
     "execution_count": 5,
     "metadata": {},
     "output_type": "execute_result"
    }
   ],
   "source": [
    "not False"
   ]
  },
  {
   "cell_type": "code",
   "execution_count": 6,
   "id": "46cf6adf",
   "metadata": {},
   "outputs": [
    {
     "data": {
      "text/plain": [
       "False"
      ]
     },
     "execution_count": 6,
     "metadata": {},
     "output_type": "execute_result"
    }
   ],
   "source": [
    "not True"
   ]
  },
  {
   "cell_type": "markdown",
   "id": "26ca0860",
   "metadata": {},
   "source": [
    "### And\n",
    "\n",
    "|p|q|p and q|\n",
    "|---|---|---|\n",
    "|T|T|T\n",
    "|T|F|F\n",
    "|F|T|F\n",
    "|F|F|F\n",
    "\n",
    "- \"Today is Wednesday.\"\n",
    "- \"I am teaching JavaScript.\""
   ]
  },
  {
   "cell_type": "code",
   "execution_count": 7,
   "id": "54b250cd",
   "metadata": {},
   "outputs": [
    {
     "data": {
      "text/plain": [
       "True"
      ]
     },
     "execution_count": 7,
     "metadata": {},
     "output_type": "execute_result"
    }
   ],
   "source": [
    "True and True"
   ]
  },
  {
   "cell_type": "code",
   "execution_count": 8,
   "id": "29d44cd4",
   "metadata": {},
   "outputs": [
    {
     "data": {
      "text/plain": [
       "False"
      ]
     },
     "execution_count": 8,
     "metadata": {},
     "output_type": "execute_result"
    }
   ],
   "source": [
    "True and False"
   ]
  },
  {
   "cell_type": "code",
   "execution_count": 10,
   "id": "b9af211e",
   "metadata": {},
   "outputs": [
    {
     "data": {
      "text/plain": [
       "False"
      ]
     },
     "execution_count": 10,
     "metadata": {},
     "output_type": "execute_result"
    }
   ],
   "source": [
    "5 == 7 and 6 == 6"
   ]
  },
  {
   "cell_type": "code",
   "execution_count": null,
   "id": "e5f94491",
   "metadata": {},
   "outputs": [],
   "source": []
  },
  {
   "cell_type": "markdown",
   "id": "a49a42e5",
   "metadata": {},
   "source": [
    "### Or\n",
    "\n",
    "|p|q|p or q|\n",
    "|---|---|---|\n",
    "|T|T|T\n",
    "|T|F|T\n",
    "|F|T|T\n",
    "|F|F|F\n",
    "\n",
    "- \"I would like cream.\"\n",
    "- \"I would like sugar.\""
   ]
  },
  {
   "cell_type": "code",
   "execution_count": 11,
   "id": "865a640d",
   "metadata": {},
   "outputs": [
    {
     "data": {
      "text/plain": [
       "True"
      ]
     },
     "execution_count": 11,
     "metadata": {},
     "output_type": "execute_result"
    }
   ],
   "source": [
    "5 ==5 or 5 == 8"
   ]
  },
  {
   "cell_type": "code",
   "execution_count": 12,
   "id": "0d9023d3",
   "metadata": {},
   "outputs": [
    {
     "data": {
      "text/plain": [
       "False"
      ]
     },
     "execution_count": 12,
     "metadata": {},
     "output_type": "execute_result"
    }
   ],
   "source": [
    "False or False"
   ]
  },
  {
   "cell_type": "code",
   "execution_count": 13,
   "id": "6215617d",
   "metadata": {},
   "outputs": [
    {
     "data": {
      "text/plain": [
       "False"
      ]
     },
     "execution_count": 13,
     "metadata": {},
     "output_type": "execute_result"
    }
   ],
   "source": [
    "False and False"
   ]
  },
  {
   "cell_type": "code",
   "execution_count": 14,
   "id": "d027f76b",
   "metadata": {},
   "outputs": [
    {
     "data": {
      "text/plain": [
       "True"
      ]
     },
     "execution_count": 14,
     "metadata": {},
     "output_type": "execute_result"
    }
   ],
   "source": [
    "True or False"
   ]
  },
  {
   "cell_type": "code",
   "execution_count": 15,
   "id": "b0c61bb6",
   "metadata": {},
   "outputs": [
    {
     "data": {
      "text/plain": [
       "True"
      ]
     },
     "execution_count": 15,
     "metadata": {},
     "output_type": "execute_result"
    }
   ],
   "source": [
    "True and True"
   ]
  },
  {
   "cell_type": "code",
   "execution_count": 16,
   "id": "50389022",
   "metadata": {},
   "outputs": [
    {
     "data": {
      "text/plain": [
       "False"
      ]
     },
     "execution_count": 16,
     "metadata": {},
     "output_type": "execute_result"
    }
   ],
   "source": [
    "False and False"
   ]
  },
  {
   "cell_type": "code",
   "execution_count": 17,
   "id": "ad53549f",
   "metadata": {},
   "outputs": [
    {
     "data": {
      "text/plain": [
       "True"
      ]
     },
     "execution_count": 17,
     "metadata": {},
     "output_type": "execute_result"
    }
   ],
   "source": [
    "True or True"
   ]
  },
  {
   "cell_type": "code",
   "execution_count": 19,
   "id": "77a5266a",
   "metadata": {},
   "outputs": [
    {
     "data": {
      "text/plain": [
       "True"
      ]
     },
     "execution_count": 19,
     "metadata": {},
     "output_type": "execute_result"
    }
   ],
   "source": [
    "7 != 7 or 6 == 6"
   ]
  },
  {
   "cell_type": "code",
   "execution_count": null,
   "id": "d7860182",
   "metadata": {},
   "outputs": [],
   "source": []
  }
 ],
 "metadata": {
  "kernelspec": {
   "display_name": "Python 3",
   "language": "python",
   "name": "python3"
  },
  "language_info": {
   "codemirror_mode": {
    "name": "ipython",
    "version": 3
   },
   "file_extension": ".py",
   "mimetype": "text/x-python",
   "name": "python",
   "nbconvert_exporter": "python",
   "pygments_lexer": "ipython3",
   "version": "3.8.8"
  }
 },
 "nbformat": 4,
 "nbformat_minor": 5
}
