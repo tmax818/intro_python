{
 "cells": [
  {
   "cell_type": "markdown",
   "id": "d037f156",
   "metadata": {},
   "source": [
    "## Lists\n",
    "\n",
    "- Python data structure used to store lists of data.\n",
    "- Data stored in lists are usaully of the same type, but they don't have to be.\n",
    "- lists are mutable"
   ]
  },
  {
   "cell_type": "code",
   "execution_count": 6,
   "id": "2a6ea6ee",
   "metadata": {},
   "outputs": [],
   "source": [
    "my_list = [99, 89, 100, 98, 76]"
   ]
  }
 ],
 "metadata": {
  "kernelspec": {
   "display_name": "Python 3",
   "language": "python",
   "name": "python3"
  },
  "language_info": {
   "codemirror_mode": {
    "name": "ipython",
    "version": 3
   },
   "file_extension": ".py",
   "mimetype": "text/x-python",
   "name": "python",
   "nbconvert_exporter": "python",
   "pygments_lexer": "ipython3",
   "version": "3.8.8"
  }
 },
 "nbformat": 4,
 "nbformat_minor": 5
}
