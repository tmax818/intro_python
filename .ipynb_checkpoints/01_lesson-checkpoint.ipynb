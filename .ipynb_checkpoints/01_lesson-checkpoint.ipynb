{
 "cells": [
  {
   "cell_type": "markdown",
   "id": "222b1e7e",
   "metadata": {},
   "source": [
    "# Intro to Python\n",
    "\n",
    "- this is a note\n",
    "- this is another note\n",
    "    - this is a subtopic\n",
    "\n",
    "\n"
   ]
  }
 ],
 "metadata": {
  "kernelspec": {
   "display_name": "Python 3",
   "language": "python",
   "name": "python3"
  },
  "language_info": {
   "codemirror_mode": {
    "name": "ipython",
    "version": 3
   },
   "file_extension": ".py",
   "mimetype": "text/x-python",
   "name": "python",
   "nbconvert_exporter": "python",
   "pygments_lexer": "ipython3",
   "version": "3.8.8"
  }
 },
 "nbformat": 4,
 "nbformat_minor": 5
}
