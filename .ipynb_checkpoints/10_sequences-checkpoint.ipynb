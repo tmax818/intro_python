{
 "cells": [
  {
   "cell_type": "markdown",
   "id": "d037f156",
   "metadata": {},
   "source": [
    "## Sequences\n",
    "\n",
    "\n",
    "- list\n",
    "    - mutable(changeable) sequence of data\n",
    "\n",
    "```python\n",
    "my_list = [\"spam\", \"eggs\", \"bacon\"]\n",
    "``` \n",
    "\n",
    "- tuple\n",
    "    - immutable(unchangeable) sequence of data\n",
    "\n",
    "```python\n",
    "my_tuple = (\"John\", 37, True)\n",
    "``` \n",
    "\n",
    "- range\n",
    "    - generator of a sequence of ordered integers\n",
    "\n",
    "```python\n",
    "start = 2\n",
    "stop = 100\n",
    "step = 2\n",
    "my_range = range(start, stop, step)\n",
    "``` "
   ]
  },
  {
   "cell_type": "markdown",
   "id": "3d4d198d",
   "metadata": {},
   "source": [
    "### lists"
   ]
  },
  {
   "cell_type": "code",
   "execution_count": null,
   "id": "7aae3a8f",
   "metadata": {},
   "outputs": [],
   "source": [
    "my_list = [\"spam\", \"eggs\", \"bacon\"]"
   ]
  },
  {
   "cell_type": "code",
   "execution_count": null,
   "id": "b8a47bfd",
   "metadata": {},
   "outputs": [],
   "source": [
    "len(my_list)"
   ]
  },
  {
   "cell_type": "code",
   "execution_count": null,
   "id": "76dbb038",
   "metadata": {},
   "outputs": [],
   "source": [
    "min(my_list)"
   ]
  },
  {
   "cell_type": "code",
   "execution_count": null,
   "id": "e6340255",
   "metadata": {},
   "outputs": [],
   "source": [
    "max(my_list)"
   ]
  },
  {
   "cell_type": "code",
   "execution_count": null,
   "id": "97518df5",
   "metadata": {},
   "outputs": [],
   "source": [
    "\"spam\" in my_list"
   ]
  },
  {
   "cell_type": "code",
   "execution_count": null,
   "id": "435a1b92",
   "metadata": {},
   "outputs": [],
   "source": [
    "\"parrot\" not in my_list"
   ]
  },
  {
   "cell_type": "markdown",
   "id": "879ce6a2",
   "metadata": {},
   "source": [
    "### tuple"
   ]
  },
  {
   "cell_type": "code",
   "execution_count": null,
   "id": "5cc51d15",
   "metadata": {},
   "outputs": [],
   "source": [
    "my_tuple = (45, \"John\", True)\n",
    "my_other_tuple = (38, \"Mary\", False)"
   ]
  },
  {
   "cell_type": "code",
   "execution_count": null,
   "id": "faff25da",
   "metadata": {},
   "outputs": [],
   "source": [
    "my_tuple + my_other_tuple"
   ]
  },
  {
   "cell_type": "markdown",
   "id": "a4cf87e7",
   "metadata": {},
   "source": [
    "### range"
   ]
  },
  {
   "cell_type": "code",
   "execution_count": null,
   "id": "fd0f46a3",
   "metadata": {},
   "outputs": [],
   "source": [
    "my_range = range(1,11)"
   ]
  },
  {
   "cell_type": "code",
   "execution_count": null,
   "id": "7d616842",
   "metadata": {},
   "outputs": [],
   "source": [
    "my_num_list = list(range(2,101))"
   ]
  },
  {
   "cell_type": "code",
   "execution_count": null,
   "id": "5a66cab7",
   "metadata": {},
   "outputs": [],
   "source": [
    "my_num_list"
   ]
  },
  {
   "cell_type": "markdown",
   "id": "a4bb4863",
   "metadata": {},
   "source": [
    "## Slicing\n",
    "\n",
    "- ```[start:stop:step]```"
   ]
  },
  {
   "cell_type": "code",
   "execution_count": null,
   "id": "92bdec5f",
   "metadata": {},
   "outputs": [],
   "source": [
    "my_num_list[20]"
   ]
  },
  {
   "cell_type": "code",
   "execution_count": null,
   "id": "8a375894",
   "metadata": {},
   "outputs": [],
   "source": [
    "dir(my_list)"
   ]
  },
  {
   "cell_type": "code",
   "execution_count": null,
   "id": "de112869",
   "metadata": {},
   "outputs": [],
   "source": [
    "dir(my_tuple)"
   ]
  },
  {
   "cell_type": "markdown",
   "id": "ea05d874",
   "metadata": {},
   "source": [
    "## What about strings?"
   ]
  },
  {
   "cell_type": "code",
   "execution_count": null,
   "id": "8e7136c2",
   "metadata": {},
   "outputs": [],
   "source": [
    "my_string = \"What is the length of this string?\""
   ]
  },
  {
   "cell_type": "code",
   "execution_count": null,
   "id": "1a1f3e88",
   "metadata": {},
   "outputs": [],
   "source": [
    "len(my_string)"
   ]
  },
  {
   "cell_type": "code",
   "execution_count": null,
   "id": "99745e10",
   "metadata": {},
   "outputs": [],
   "source": [
    "min(my_string)"
   ]
  },
  {
   "cell_type": "code",
   "execution_count": null,
   "id": "427f9e48",
   "metadata": {},
   "outputs": [],
   "source": [
    "max(my_string)"
   ]
  },
  {
   "cell_type": "code",
   "execution_count": null,
   "id": "0214e48b",
   "metadata": {},
   "outputs": [],
   "source": [
    "\"is\" in my_string"
   ]
  },
  {
   "cell_type": "code",
   "execution_count": null,
   "id": "8c67801e",
   "metadata": {},
   "outputs": [],
   "source": [
    "\"parrot\" in my_string"
   ]
  },
  {
   "cell_type": "code",
   "execution_count": null,
   "id": "c70e61cb",
   "metadata": {},
   "outputs": [],
   "source": []
  }
 ],
 "metadata": {
  "kernelspec": {
   "display_name": "Python 3",
   "language": "python",
   "name": "python3"
  },
  "language_info": {
   "codemirror_mode": {
    "name": "ipython",
    "version": 3
   },
   "file_extension": ".py",
   "mimetype": "text/x-python",
   "name": "python",
   "nbconvert_exporter": "python",
   "pygments_lexer": "ipython3",
   "version": "3.8.8"
  }
 },
 "nbformat": 4,
 "nbformat_minor": 5
}
