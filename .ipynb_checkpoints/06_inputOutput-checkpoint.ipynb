{
 "cells": [
  {
   "cell_type": "markdown",
   "id": "99bdfea5",
   "metadata": {},
   "source": [
    "### Input/Output(I/O)\n",
    "\n",
    "Write a program that takes the users age as input and returns the age they will be when Halley's Comet returns."
   ]
  },
  {
   "cell_type": "code",
   "execution_count": 24,
   "id": "e788d51e",
   "metadata": {},
   "outputs": [
    {
     "name": "stdout",
     "output_type": "stream",
     "text": [
      "How old are you? 39\n",
      "You will be 79 when the comet returns!\n"
     ]
    }
   ],
   "source": [
    "# comments are ignored\n",
    "\n",
    "# create a variable for the number year until comet\n",
    "YEARS_UNTIL_COMET = 40\n",
    "# prompt user for their age\n",
    "\n",
    "age = input(\"How old are you? \")\n",
    "age = int(age)\n",
    "\n",
    "\n",
    "# add the years until comet to the user's age\n",
    "\n",
    "comet_age = age + YEARS_UNTIL_COMET\n",
    "\n",
    "# return a message with the user's age when the comet returns\n",
    "print(\"You will be\", comet_age, \"when the comet returns!\")"
   ]
  },
  {
   "cell_type": "code",
   "execution_count": null,
   "id": "6b39fbe9",
   "metadata": {},
   "outputs": [],
   "source": []
  }
 ],
 "metadata": {
  "kernelspec": {
   "display_name": "Python 3",
   "language": "python",
   "name": "python3"
  },
  "language_info": {
   "codemirror_mode": {
    "name": "ipython",
    "version": 3
   },
   "file_extension": ".py",
   "mimetype": "text/x-python",
   "name": "python",
   "nbconvert_exporter": "python",
   "pygments_lexer": "ipython3",
   "version": "3.8.8"
  }
 },
 "nbformat": 4,
 "nbformat_minor": 5
}
