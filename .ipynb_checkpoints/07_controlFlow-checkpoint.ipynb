{
 "cells": [
  {
   "cell_type": "markdown",
   "id": "ad3dd951",
   "metadata": {},
   "source": [
    "### Control Flow\n",
    "\n",
    "- allows different code to execute depending on a condition.\n",
    "- `if` `elif` and `else` are the keywords\n",
    "\n",
    "```python\n",
    "condition = False\n",
    "other_condition = False\n",
    "\n",
    "if condition:\n",
    "    print(\"The condition is\", condition)\n",
    "# elif is optional if only checking one condition\n",
    "elif other_condition:\n",
    "    print(\"The other condition is\", other_condition)\n",
    "else:\n",
    "    print(\"Both conditions must be false!!!\")\n",
    "```"
   ]
  },
  {
   "cell_type": "code",
   "execution_count": null,
   "id": "42e3df67",
   "metadata": {},
   "outputs": [],
   "source": [
    "condition = True\n",
    "other_condition = True\n",
    "\n",
    "if condition:\n",
    "    print(\"The condition is\", condition)\n",
    "# elif is optional if only checking one condition\n",
    "elif other_condition:\n",
    "    print(\"The other condition is\", other_condition)\n",
    "else:\n",
    "    print(\"Both conditions must be false!!!\")"
   ]
  },
  {
   "cell_type": "markdown",
   "id": "793f4111",
   "metadata": {},
   "source": [
    "### FizzBuzz\n",
    "\n",
    "Write a program that prints \"fizz\" if a number is divisible by 3, \"buzz\" if a number is divisible by 5 and \"fizzbuzz\" if a number is divisable by both 3 and 5. Otherwise, print \"nothing\"."
   ]
  },
  {
   "cell_type": "code",
   "execution_count": null,
   "id": "a6ee3dc9",
   "metadata": {},
   "outputs": [],
   "source": [
    "# prompt for a number\n",
    "\n",
    "# if the number is % 3, print 'fizz'\n",
    "\n",
    "# if the number is % 5, print 'buzz'\n",
    "\n",
    "# otherwise print 'nothing'\n"
   ]
  },
  {
   "cell_type": "code",
   "execution_count": null,
   "id": "00cc5a0e",
   "metadata": {},
   "outputs": [],
   "source": []
  }
 ],
 "metadata": {
  "kernelspec": {
   "display_name": "Python 3",
   "language": "python",
   "name": "python3"
  },
  "language_info": {
   "codemirror_mode": {
    "name": "ipython",
    "version": 3
   },
   "file_extension": ".py",
   "mimetype": "text/x-python",
   "name": "python",
   "nbconvert_exporter": "python",
   "pygments_lexer": "ipython3",
   "version": "3.8.8"
  }
 },
 "nbformat": 4,
 "nbformat_minor": 5
}
