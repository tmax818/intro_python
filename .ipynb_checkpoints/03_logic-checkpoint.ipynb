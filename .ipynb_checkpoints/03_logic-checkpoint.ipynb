{
 "cells": [
  {
   "cell_type": "markdown",
   "id": "141bf1c6",
   "metadata": {},
   "source": [
    "### Basic Logic\n",
    "- not\n",
    "- and\n",
    "- or"
   ]
  },
  {
   "cell_type": "markdown",
   "id": "8700a410",
   "metadata": {},
   "source": [
    "### Not\n",
    "\n",
    "|p|not p|\n",
    "|---|---|\n",
    "|True|False|\n",
    "|Flase|True|\n",
    "\n",
    "- \"The sky is blue.\"\n",
    "- \"The moon is made of green cheese.\""
   ]
  },
  {
   "cell_type": "markdown",
   "id": "0e3d0f9f",
   "metadata": {},
   "source": [
    "### And\n",
    "\n",
    "|p|q|p and q|\n",
    "|---|---|---|\n",
    "|T|T|T\n",
    "|T|F|F\n",
    "|F|T|F\n",
    "|F|F|F\n",
    "\n",
    "- \"Today is Tuesday.\"\n",
    "- \"I am teaching Python.\""
   ]
  },
  {
   "cell_type": "markdown",
   "id": "ec63330c",
   "metadata": {},
   "source": [
    "### Or\n",
    "\n",
    "|p|q|p or q|\n",
    "|---|---|---|\n",
    "|T|T|T\n",
    "|T|F|T\n",
    "|F|T|T\n",
    "|F|F|F\n",
    "\n",
    "- \"The sky is blue.\"\n",
    "- \"The moon is made of green cheese.\""
   ]
  },
  {
   "cell_type": "code",
   "execution_count": null,
   "id": "865a640d",
   "metadata": {},
   "outputs": [],
   "source": []
  },
  {
   "cell_type": "code",
   "execution_count": null,
   "id": "d3b920c0",
   "metadata": {},
   "outputs": [],
   "source": []
  }
 ],
 "metadata": {
  "kernelspec": {
   "display_name": "Python 3",
   "language": "python",
   "name": "python3"
  },
  "language_info": {
   "codemirror_mode": {
    "name": "ipython",
    "version": 3
   },
   "file_extension": ".py",
   "mimetype": "text/x-python",
   "name": "python",
   "nbconvert_exporter": "python",
   "pygments_lexer": "ipython3",
   "version": "3.8.8"
  }
 },
 "nbformat": 4,
 "nbformat_minor": 5
}
