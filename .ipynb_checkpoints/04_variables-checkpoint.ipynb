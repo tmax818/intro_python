{
 "cells": [
  {
   "cell_type": "code",
   "execution_count": 1,
   "id": "c690eb98",
   "metadata": {},
   "outputs": [],
   "source": [
    "number = 42"
   ]
  },
  {
   "cell_type": "code",
   "execution_count": 4,
   "id": "eff48098",
   "metadata": {},
   "outputs": [],
   "source": [
    "number = 42.2"
   ]
  },
  {
   "cell_type": "code",
   "execution_count": 6,
   "id": "be063d87",
   "metadata": {},
   "outputs": [],
   "source": [
    "number = \"42\""
   ]
  },
  {
   "cell_type": "code",
   "execution_count": 8,
   "id": "1ebc8ac6",
   "metadata": {},
   "outputs": [
    {
     "name": "stdout",
     "output_type": "stream",
     "text": [
      "Help on method randint in module random:\n",
      "\n",
      "randint(a, b) method of random.Random instance\n",
      "    Return random integer in range [a, b], including both end points.\n",
      "\n"
     ]
    }
   ],
   "source": [
    "import random\n",
    "\n",
    "help(random.randint)"
   ]
  },
  {
   "cell_type": "code",
   "execution_count": 13,
   "id": "34d46a4b",
   "metadata": {},
   "outputs": [],
   "source": [
    "number = random.randint(1,100)"
   ]
  },
  {
   "cell_type": "code",
   "execution_count": 14,
   "id": "f017bf4f",
   "metadata": {},
   "outputs": [
    {
     "name": "stdout",
     "output_type": "stream",
     "text": [
      "The number is: 44\n"
     ]
    }
   ],
   "source": [
    "print(\"The number is:\", number)"
   ]
  },
  {
   "cell_type": "code",
   "execution_count": 15,
   "id": "1c7d5ddf",
   "metadata": {},
   "outputs": [
    {
     "data": {
      "text/plain": [
       "56"
      ]
     },
     "execution_count": 15,
     "metadata": {},
     "output_type": "execute_result"
    }
   ],
   "source": [
    "number + 12"
   ]
  },
  {
   "cell_type": "code",
   "execution_count": 16,
   "id": "93f36828",
   "metadata": {},
   "outputs": [],
   "source": [
    "number = \"35\""
   ]
  },
  {
   "cell_type": "code",
   "execution_count": 17,
   "id": "ee5a5b0f",
   "metadata": {},
   "outputs": [
    {
     "data": {
      "text/plain": [
       "str"
      ]
     },
     "execution_count": 17,
     "metadata": {},
     "output_type": "execute_result"
    }
   ],
   "source": [
    "type(number)"
   ]
  },
  {
   "cell_type": "code",
   "execution_count": 19,
   "id": "86c913ad",
   "metadata": {},
   "outputs": [
    {
     "data": {
      "text/plain": [
       "47"
      ]
     },
     "execution_count": 19,
     "metadata": {},
     "output_type": "execute_result"
    }
   ],
   "source": [
    "int(number) + 12"
   ]
  },
  {
   "cell_type": "code",
   "execution_count": 20,
   "id": "033bf8af",
   "metadata": {},
   "outputs": [],
   "source": [
    "my_float = 3.14"
   ]
  },
  {
   "cell_type": "code",
   "execution_count": 24,
   "id": "96b27bd3",
   "metadata": {},
   "outputs": [
    {
     "name": "stdout",
     "output_type": "stream",
     "text": [
      "3\n"
     ]
    }
   ],
   "source": [
    "type(int(my_float))\n",
    "print(int(my_float))"
   ]
  },
  {
   "cell_type": "code",
   "execution_count": null,
   "id": "652aaa31",
   "metadata": {},
   "outputs": [],
   "source": []
  }
 ],
 "metadata": {
  "kernelspec": {
   "display_name": "Python 3",
   "language": "python",
   "name": "python3"
  },
  "language_info": {
   "codemirror_mode": {
    "name": "ipython",
    "version": 3
   },
   "file_extension": ".py",
   "mimetype": "text/x-python",
   "name": "python",
   "nbconvert_exporter": "python",
   "pygments_lexer": "ipython3",
   "version": "3.8.8"
  }
 },
 "nbformat": 4,
 "nbformat_minor": 5
}
