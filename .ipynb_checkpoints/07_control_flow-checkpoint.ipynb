{
 "cells": [
  {
   "cell_type": "markdown",
   "id": "ad3dd951",
   "metadata": {},
   "source": [
    "### Control Flow\n",
    "\n",
    "- allows different code to execute depending on condition.\n",
    "- `if` `elif` and `else` are the keywords\n",
    "\n",
    "```python\n",
    "\n",
    "condition = True\n",
    "\n",
    "if condition:\n",
    "    print(\"The condition is\", condition)\n",
    "else:\n",
    "    print(\"The condition is must be false!!!\")\n",
    "```"
   ]
  },
  {
   "cell_type": "code",
   "execution_count": 3,
   "id": "92d2015f",
   "metadata": {},
   "outputs": [
    {
     "name": "stdout",
     "output_type": "stream",
     "text": [
      "The condition is must be false!!!\n"
     ]
    }
   ],
   "source": [
    "condition = False\n",
    "\n",
    "if condition:\n",
    "    print(\"The condition is\", condition)\n",
    "else:\n",
    "    print(\"The condition is must be false!!!\")"
   ]
  },
  {
   "cell_type": "code",
   "execution_count": null,
   "id": "321baefc",
   "metadata": {},
   "outputs": [],
   "source": []
  }
 ],
 "metadata": {
  "kernelspec": {
   "display_name": "Python 3",
   "language": "python",
   "name": "python3"
  },
  "language_info": {
   "codemirror_mode": {
    "name": "ipython",
    "version": 3
   },
   "file_extension": ".py",
   "mimetype": "text/x-python",
   "name": "python",
   "nbconvert_exporter": "python",
   "pygments_lexer": "ipython3",
   "version": "3.8.8"
  }
 },
 "nbformat": 4,
 "nbformat_minor": 5
}
