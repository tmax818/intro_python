{
 "cells": [
  {
   "cell_type": "markdown",
   "id": "b0aef304",
   "metadata": {},
   "source": [
    "# Python Basic Data Types\n",
    "- int\n",
    "- float\n",
    "- None\n",
    "- bool\n",
    "\n",
    "\n",
    "`<Shift><Enter>` to run/change cells"
   ]
  },
  {
   "cell_type": "code",
   "execution_count": null,
   "id": "dab36370",
   "metadata": {},
   "outputs": [],
   "source": []
  }
 ],
 "metadata": {
  "kernelspec": {
   "display_name": "Python 3",
   "language": "python",
   "name": "python3"
  },
  "language_info": {
   "codemirror_mode": {
    "name": "ipython",
    "version": 3
   },
   "file_extension": ".py",
   "mimetype": "text/x-python",
   "name": "python",
   "nbconvert_exporter": "python",
   "pygments_lexer": "ipython3",
   "version": "3.8.8"
  }
 },
 "nbformat": 4,
 "nbformat_minor": 5
}
