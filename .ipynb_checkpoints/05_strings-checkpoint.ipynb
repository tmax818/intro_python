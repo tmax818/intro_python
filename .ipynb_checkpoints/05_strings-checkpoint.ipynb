{
 "cells": [
  {
   "cell_type": "markdown",
   "id": "4ac442e8",
   "metadata": {},
   "source": [
    "### Strings\n",
    "\n",
    "- can be made with double(\"\") or single('') quotes\n",
    "- immutable objects\n",
    "- text data\n",
    "\n",
    "```python\n",
    "\n",
    "\"the airspeed velocity of an unladen swallow.\"\n",
    "```"
   ]
  },
  {
   "cell_type": "code",
   "execution_count": null,
   "id": "f35b3f62",
   "metadata": {},
   "outputs": [],
   "source": [
    "my_string = \"the airspeed velocity of an unladen swallow.\""
   ]
  }
 ],
 "metadata": {
  "kernelspec": {
   "display_name": "Python 3",
   "language": "python",
   "name": "python3"
  },
  "language_info": {
   "codemirror_mode": {
    "name": "ipython",
    "version": 3
   },
   "file_extension": ".py",
   "mimetype": "text/x-python",
   "name": "python",
   "nbconvert_exporter": "python",
   "pygments_lexer": "ipython3",
   "version": "3.8.8"
  }
 },
 "nbformat": 4,
 "nbformat_minor": 5
}
