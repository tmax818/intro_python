{
 "cells": [
  {
   "cell_type": "markdown",
   "id": "b9357977",
   "metadata": {},
   "source": [
    "## Variables"
   ]
  },
  {
   "cell_type": "code",
   "execution_count": 14,
   "id": "d232dccd",
   "metadata": {},
   "outputs": [],
   "source": [
    "import random\n",
    "\n",
    "random_number = random.randint(1,10)\n",
    "\n",
    "number = random_number"
   ]
  },
  {
   "cell_type": "code",
   "execution_count": 15,
   "id": "7f35bc15",
   "metadata": {},
   "outputs": [
    {
     "name": "stdout",
     "output_type": "stream",
     "text": [
      "The number is 9\n"
     ]
    }
   ],
   "source": [
    "print(\"The number is\", number)"
   ]
  },
  {
   "cell_type": "code",
   "execution_count": null,
   "id": "fd3bb05a",
   "metadata": {},
   "outputs": [],
   "source": []
  }
 ],
 "metadata": {
  "kernelspec": {
   "display_name": "Python 3",
   "language": "python",
   "name": "python3"
  },
  "language_info": {
   "codemirror_mode": {
    "name": "ipython",
    "version": 3
   },
   "file_extension": ".py",
   "mimetype": "text/x-python",
   "name": "python",
   "nbconvert_exporter": "python",
   "pygments_lexer": "ipython3",
   "version": "3.8.8"
  }
 },
 "nbformat": 4,
 "nbformat_minor": 5
}
