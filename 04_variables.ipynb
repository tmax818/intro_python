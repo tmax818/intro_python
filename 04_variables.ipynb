{
 "cells": [
  {
   "cell_type": "markdown",
   "id": "7180d8af",
   "metadata": {},
   "source": [
    "### Variables\n",
    "\n",
    "- case-sensitive\n",
    "- must begin with a letter or underscore(_)\n",
    "- cannot be a Python keyword\n",
    "\n",
    "\n",
    "example:\n",
    "\n",
    "```python\n",
    "message = \"Spam\"\n",
    "```"
   ]
  },
  {
   "cell_type": "code",
   "execution_count": null,
   "id": "16b7cfa5",
   "metadata": {},
   "outputs": [],
   "source": [
    "message = \"spam\""
   ]
  },
  {
   "cell_type": "code",
   "execution_count": null,
   "id": "3d53ed70",
   "metadata": {},
   "outputs": [],
   "source": [
    "id(message)"
   ]
  },
  {
   "cell_type": "code",
   "execution_count": null,
   "id": "b83e968b",
   "metadata": {},
   "outputs": [],
   "source": [
    "help(id)"
   ]
  },
  {
   "cell_type": "code",
   "execution_count": null,
   "id": "08599698",
   "metadata": {},
   "outputs": [],
   "source": [
    "id(\"spam\")"
   ]
  }
 ],
 "metadata": {
  "kernelspec": {
   "display_name": "Python 3",
   "language": "python",
   "name": "python3"
  },
  "language_info": {
   "codemirror_mode": {
    "name": "ipython",
    "version": 3
   },
   "file_extension": ".py",
   "mimetype": "text/x-python",
   "name": "python",
   "nbconvert_exporter": "python",
   "pygments_lexer": "ipython3",
   "version": "3.8.8"
  }
 },
 "nbformat": 4,
 "nbformat_minor": 5
}
