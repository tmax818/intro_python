{
 "cells": [
  {
   "cell_type": "markdown",
   "id": "7180d8af",
   "metadata": {},
   "source": [
    "### Variables\n",
    "\n",
    "- case-sensitive\n",
    "- must begin with a letter or underscore(_)\n",
    "- cannot be a Python keyword\n",
    "\n",
    "\n",
    "example:\n",
    "\n",
    "```python\n",
    "message = \"Spam\"\n",
    "```"
   ]
  },
  {
   "cell_type": "code",
   "execution_count": 19,
   "id": "16b7cfa5",
   "metadata": {},
   "outputs": [],
   "source": [
    "message = \"spam\""
   ]
  },
  {
   "cell_type": "code",
   "execution_count": 20,
   "id": "3d53ed70",
   "metadata": {},
   "outputs": [
    {
     "data": {
      "text/plain": [
       "2148378357808"
      ]
     },
     "execution_count": 20,
     "metadata": {},
     "output_type": "execute_result"
    }
   ],
   "source": [
    "id(message)"
   ]
  },
  {
   "cell_type": "code",
   "execution_count": 21,
   "id": "b83e968b",
   "metadata": {},
   "outputs": [
    {
     "name": "stdout",
     "output_type": "stream",
     "text": [
      "Help on built-in function id in module builtins:\n",
      "\n",
      "id(obj, /)\n",
      "    Return the identity of an object.\n",
      "    \n",
      "    This is guaranteed to be unique among simultaneously existing objects.\n",
      "    (CPython uses the object's memory address.)\n",
      "\n"
     ]
    }
   ],
   "source": [
    "help(id)"
   ]
  },
  {
   "cell_type": "code",
   "execution_count": 22,
   "id": "08599698",
   "metadata": {},
   "outputs": [
    {
     "data": {
      "text/plain": [
       "2148378357808"
      ]
     },
     "execution_count": 22,
     "metadata": {},
     "output_type": "execute_result"
    }
   ],
   "source": [
    "id(\"spam\")"
   ]
  },
  {
   "cell_type": "code",
   "execution_count": null,
   "id": "49a3bfa5",
   "metadata": {},
   "outputs": [],
   "source": []
  }
 ],
 "metadata": {
  "kernelspec": {
   "display_name": "Python 3",
   "language": "python",
   "name": "python3"
  },
  "language_info": {
   "codemirror_mode": {
    "name": "ipython",
    "version": 3
   },
   "file_extension": ".py",
   "mimetype": "text/x-python",
   "name": "python",
   "nbconvert_exporter": "python",
   "pygments_lexer": "ipython3",
   "version": "3.8.8"
  }
 },
 "nbformat": 4,
 "nbformat_minor": 5
}
