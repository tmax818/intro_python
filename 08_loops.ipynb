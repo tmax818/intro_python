{
 "cells": [
  {
   "cell_type": "markdown",
   "id": "49806ab2",
   "metadata": {},
   "source": [
    "## Loops \n",
    "\n",
    "- `while`\n",
    "- `for`\n",
    "\n",
    "\n",
    "example:\n",
    "```python\n",
    "while condition:\n",
    "    #do somthing\n",
    "    #be sure to change the condtion to False\n",
    "```"
   ]
  },
  {
   "cell_type": "code",
   "execution_count": 1,
   "id": "8ab42f0b",
   "metadata": {},
   "outputs": [
    {
     "name": "stdout",
     "output_type": "stream",
     "text": [
      "The count is: 5\n",
      "The count is: 4\n",
      "The count is: 3\n",
      "The count is: 2\n",
      "The count is: 1\n"
     ]
    }
   ],
   "source": [
    "count = 5\n",
    "\n",
    "while count > 0:\n",
    "    print(\"The count is:\", count)\n",
    "    count -= 1\n"
   ]
  },
  {
   "cell_type": "code",
   "execution_count": null,
   "id": "1dca23a3",
   "metadata": {},
   "outputs": [],
   "source": []
  }
 ],
 "metadata": {
  "kernelspec": {
   "display_name": "Python 3",
   "language": "python",
   "name": "python3"
  },
  "language_info": {
   "codemirror_mode": {
    "name": "ipython",
    "version": 3
   },
   "file_extension": ".py",
   "mimetype": "text/x-python",
   "name": "python",
   "nbconvert_exporter": "python",
   "pygments_lexer": "ipython3",
   "version": "3.8.8"
  }
 },
 "nbformat": 4,
 "nbformat_minor": 5
}
