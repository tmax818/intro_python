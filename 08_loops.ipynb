{
 "cells": [
  {
   "cell_type": "markdown",
   "id": "49806ab2",
   "metadata": {},
   "source": [
    "## Loops \n",
    "\n",
    "- `while`\n",
    "- `for`\n",
    "\n",
    "\n",
    "example:\n",
    "```python\n",
    "while condition:\n",
    "    #do somthing\n",
    "    #be sure to change the condtion to False\n",
    "```"
   ]
  },
  {
   "cell_type": "code",
   "execution_count": null,
   "id": "8ab42f0b",
   "metadata": {},
   "outputs": [],
   "source": [
    "count = 5\n",
    "\n",
    "while count > 0:\n",
    "    print(\"The count is:\", count)\n",
    "    count -= 1\n"
   ]
  },
  {
   "cell_type": "code",
   "execution_count": null,
   "id": "7328c78f",
   "metadata": {},
   "outputs": [],
   "source": [
    "while True:\n",
    "    print(\"in a loop\")\n",
    "\n",
    "print(\"test\")"
   ]
  },
  {
   "cell_type": "code",
   "execution_count": null,
   "id": "a54cc522",
   "metadata": {},
   "outputs": [],
   "source": []
  }
 ],
 "metadata": {
  "kernelspec": {
   "display_name": "Python 3",
   "language": "python",
   "name": "python3"
  },
  "language_info": {
   "codemirror_mode": {
    "name": "ipython",
    "version": 3
   },
   "file_extension": ".py",
   "mimetype": "text/x-python",
   "name": "python",
   "nbconvert_exporter": "python",
   "pygments_lexer": "ipython3",
   "version": "3.8.8"
  }
 },
 "nbformat": 4,
 "nbformat_minor": 5
}
