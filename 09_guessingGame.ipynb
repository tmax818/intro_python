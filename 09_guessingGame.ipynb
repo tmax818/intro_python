{
 "cells": [
  {
   "cell_type": "markdown",
   "id": "8fce9798",
   "metadata": {},
   "source": [
    "## Guessing Game\n",
    "\n",
    "- Write a program that selects a random number between 1 and 100 and asks the user to guess the number. Provide feedback if the guess is too high or too low."
   ]
  },
  {
   "cell_type": "code",
   "execution_count": null,
   "id": "47996934",
   "metadata": {},
   "outputs": [],
   "source": []
  }
 ],
 "metadata": {
  "kernelspec": {
   "display_name": "Python 3",
   "language": "python",
   "name": "python3"
  },
  "language_info": {
   "codemirror_mode": {
    "name": "ipython",
    "version": 3
   },
   "file_extension": ".py",
   "mimetype": "text/x-python",
   "name": "python",
   "nbconvert_exporter": "python",
   "pygments_lexer": "ipython3",
   "version": "3.8.8"
  }
 },
 "nbformat": 4,
 "nbformat_minor": 5
}
