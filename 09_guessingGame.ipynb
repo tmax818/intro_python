{
 "cells": [
  {
   "cell_type": "markdown",
   "id": "8fce9798",
   "metadata": {},
   "source": [
    "## Guessing Game\n",
    "\n",
    "- Write a program that selects a random number between 1 and 100 and asks the user to guess the number. Provide feedback if the guess is too high or too low."
   ]
  },
  {
   "cell_type": "code",
   "execution_count": 4,
   "id": "47996934",
   "metadata": {},
   "outputs": [
    {
     "name": "stdout",
     "output_type": "stream",
     "text": [
      "Guess a nummber between 1 and 100: 50\n",
      "That number is too high, guess again:25\n",
      "That number is too high, guess again:12\n",
      "That number is too low, guess again:17\n",
      "That number is too high, guess again:15\n",
      "That number is too low, guess again:16\n",
      "You win!\n"
     ]
    }
   ],
   "source": [
    "## pick a random number to guess\n",
    "\n",
    "import random\n",
    "\n",
    "the_number = random.randint(1,100)\n",
    "\n",
    "##print(\"the number is\", number) as a test.\n",
    "#print(\"The number to guess is: \", the_number)\n",
    "\n",
    "## ask the player to guess a number\n",
    "\n",
    "guess = input(\"Guess a nummber between 1 and 100: \")\n",
    "guess = int(guess)\n",
    "\n",
    "#print(type(guess))\n",
    "\n",
    "## compare the guessed number to the number.\n",
    "\n",
    "count = 0\n",
    "\n",
    "while guess != the_number:\n",
    "      \n",
    "# if the guessed number is too low, inform the user and ask for another guess.\n",
    "    if guess < the_number:\n",
    "        guess = input(\"That number is too low, guess again:\")\n",
    "        guess = int(guess)\n",
    "    elif guess > the_number:\n",
    "        guess = input(\"That number is too high, guess again:\")\n",
    "        guess = int(guess)\n",
    "\n",
    "print(\"You win!\")\n",
    "\n",
    "# if the guessed number is too high, inform the user and ask for another guess.\n",
    "\n",
    "# end the game when the user guesses the number.\n",
    "\n"
   ]
  },
  {
   "cell_type": "code",
   "execution_count": null,
   "id": "bb3a7eaa",
   "metadata": {},
   "outputs": [],
   "source": []
  }
 ],
 "metadata": {
  "kernelspec": {
   "display_name": "Python 3",
   "language": "python",
   "name": "python3"
  },
  "language_info": {
   "codemirror_mode": {
    "name": "ipython",
    "version": 3
   },
   "file_extension": ".py",
   "mimetype": "text/x-python",
   "name": "python",
   "nbconvert_exporter": "python",
   "pygments_lexer": "ipython3",
   "version": "3.8.8"
  }
 },
 "nbformat": 4,
 "nbformat_minor": 5
}
