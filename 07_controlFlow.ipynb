{
 "cells": [
  {
   "cell_type": "markdown",
   "id": "ad3dd951",
   "metadata": {},
   "source": [
    "### Control Flow\n",
    "\n",
    "- allows different code to execute depending on a condition.\n",
    "- `if` `elif` and `else` are the keywords\n",
    "\n",
    "```python\n",
    "\n",
    "condition = True\n",
    "\n",
    "if condition:\n",
    "    print(\"The condition is\", condition)\n",
    "else:\n",
    "    print(\"The condition is must be false!!!\")\n",
    "```"
   ]
  },
  {
   "cell_type": "code",
   "execution_count": 18,
   "id": "eac5b922",
   "metadata": {},
   "outputs": [
    {
     "name": "stdout",
     "output_type": "stream",
     "text": [
      "okay, let's move on...\n"
     ]
    }
   ],
   "source": [
    "condition = False\n",
    "\n",
    "if condition:\n",
    "    print(\"The condition is\", condition)\n",
    "    \n",
    "    \n",
    "print(\"okay, let's move on...\")"
   ]
  },
  {
   "cell_type": "code",
   "execution_count": 19,
   "id": "7dc65d6d",
   "metadata": {},
   "outputs": [
    {
     "data": {
      "text/plain": [
       "0"
      ]
     },
     "execution_count": 19,
     "metadata": {},
     "output_type": "execute_result"
    }
   ],
   "source": [
    "42 % 2"
   ]
  },
  {
   "cell_type": "code",
   "execution_count": 20,
   "id": "4e83ae0c",
   "metadata": {},
   "outputs": [
    {
     "data": {
      "text/plain": [
       "1"
      ]
     },
     "execution_count": 20,
     "metadata": {},
     "output_type": "execute_result"
    }
   ],
   "source": [
    "43 % 2"
   ]
  },
  {
   "cell_type": "code",
   "execution_count": 21,
   "id": "5f90d555",
   "metadata": {},
   "outputs": [
    {
     "data": {
      "text/plain": [
       "1"
      ]
     },
     "execution_count": 21,
     "metadata": {},
     "output_type": "execute_result"
    }
   ],
   "source": [
    "57 % 2"
   ]
  },
  {
   "cell_type": "code",
   "execution_count": 24,
   "id": "45dac565",
   "metadata": {},
   "outputs": [
    {
     "name": "stdout",
     "output_type": "stream",
     "text": [
      "43 is odd.\n"
     ]
    }
   ],
   "source": [
    "number = 43\n",
    "\n",
    "if number % 2 == 0:\n",
    "    print(number, \"is even.\")\n",
    "else:\n",
    "    print(number, \"is odd.\")"
   ]
  },
  {
   "cell_type": "code",
   "execution_count": null,
   "id": "69dff901",
   "metadata": {},
   "outputs": [],
   "source": []
  }
 ],
 "metadata": {
  "kernelspec": {
   "display_name": "Python 3",
   "language": "python",
   "name": "python3"
  },
  "language_info": {
   "codemirror_mode": {
    "name": "ipython",
    "version": 3
   },
   "file_extension": ".py",
   "mimetype": "text/x-python",
   "name": "python",
   "nbconvert_exporter": "python",
   "pygments_lexer": "ipython3",
   "version": "3.8.8"
  }
 },
 "nbformat": 4,
 "nbformat_minor": 5
}
